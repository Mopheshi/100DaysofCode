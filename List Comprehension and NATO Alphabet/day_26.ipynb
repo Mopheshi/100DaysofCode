{
 "cells": [
  {
   "cell_type": "code",
   "id": "initial_id",
   "metadata": {
    "collapsed": true,
    "ExecuteTime": {
     "end_time": "2024-12-01T15:35:45.072906Z",
     "start_time": "2024-12-01T15:35:44.505930Z"
    }
   },
   "source": "import pandas as pd",
   "outputs": [],
   "execution_count": 1
  },
  {
   "metadata": {
    "ExecuteTime": {
     "end_time": "2024-12-01T15:35:45.097283Z",
     "start_time": "2024-12-01T15:35:45.093957Z"
    }
   },
   "cell_type": "code",
   "source": [
    "student_dict = {\n",
    "    \"students\": [\"Mopheshi\", \"Atachiz\", \"Morpheus\"],\n",
    "    \"scores\": [90, 80, 70],\n",
    "}"
   ],
   "id": "946aceecb77cd3f0",
   "outputs": [],
   "execution_count": 2
  },
  {
   "metadata": {
    "ExecuteTime": {
     "end_time": "2024-12-01T15:35:45.123841Z",
     "start_time": "2024-12-01T15:35:45.103337Z"
    }
   },
   "cell_type": "code",
   "source": [
    "student_data = pd.DataFrame(student_dict)\n",
    "student_data"
   ],
   "id": "b8240b23453344d",
   "outputs": [
    {
     "data": {
      "text/plain": [
       "   students  scores\n",
       "0  Mopheshi      90\n",
       "1   Atachiz      80\n",
       "2  Morpheus      70"
      ],
      "text/html": [
       "<div>\n",
       "<style scoped>\n",
       "    .dataframe tbody tr th:only-of-type {\n",
       "        vertical-align: middle;\n",
       "    }\n",
       "\n",
       "    .dataframe tbody tr th {\n",
       "        vertical-align: top;\n",
       "    }\n",
       "\n",
       "    .dataframe thead th {\n",
       "        text-align: right;\n",
       "    }\n",
       "</style>\n",
       "<table border=\"1\" class=\"dataframe\">\n",
       "  <thead>\n",
       "    <tr style=\"text-align: right;\">\n",
       "      <th></th>\n",
       "      <th>students</th>\n",
       "      <th>scores</th>\n",
       "    </tr>\n",
       "  </thead>\n",
       "  <tbody>\n",
       "    <tr>\n",
       "      <th>0</th>\n",
       "      <td>Mopheshi</td>\n",
       "      <td>90</td>\n",
       "    </tr>\n",
       "    <tr>\n",
       "      <th>1</th>\n",
       "      <td>Atachiz</td>\n",
       "      <td>80</td>\n",
       "    </tr>\n",
       "    <tr>\n",
       "      <th>2</th>\n",
       "      <td>Morpheus</td>\n",
       "      <td>70</td>\n",
       "    </tr>\n",
       "  </tbody>\n",
       "</table>\n",
       "</div>"
      ]
     },
     "execution_count": 3,
     "metadata": {},
     "output_type": "execute_result"
    }
   ],
   "execution_count": 3
  },
  {
   "metadata": {
    "ExecuteTime": {
     "end_time": "2024-12-01T15:41:04.619708Z",
     "start_time": "2024-12-01T15:41:04.615673Z"
    }
   },
   "cell_type": "code",
   "source": [
    "for (index, row) in student_data.iterrows():\n",
    "    if row.students == \"Morpheus\":\n",
    "        print(row.scores)"
   ],
   "id": "3157f30f5442e243",
   "outputs": [
    {
     "name": "stdout",
     "output_type": "stream",
     "text": [
      "70\n"
     ]
    }
   ],
   "execution_count": 13
  }
 ],
 "metadata": {
  "kernelspec": {
   "display_name": "Python 3",
   "language": "python",
   "name": "python3"
  },
  "language_info": {
   "codemirror_mode": {
    "name": "ipython",
    "version": 2
   },
   "file_extension": ".py",
   "mimetype": "text/x-python",
   "name": "python",
   "nbconvert_exporter": "python",
   "pygments_lexer": "ipython2",
   "version": "2.7.6"
  }
 },
 "nbformat": 4,
 "nbformat_minor": 5
}
